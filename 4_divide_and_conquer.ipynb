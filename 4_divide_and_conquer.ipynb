{
  "nbformat": 4,
  "nbformat_minor": 0,
  "metadata": {
    "colab": {
      "name": "4_divide_and_conquer.ipynb",
      "provenance": [],
      "collapsed_sections": [],
      "authorship_tag": "ABX9TyM9BqjSLjkTrOcw8l9wzual",
      "include_colab_link": true
    },
    "kernelspec": {
      "name": "python3",
      "display_name": "Python 3"
    }
  },
  "cells": [
    {
      "cell_type": "markdown",
      "metadata": {
        "id": "view-in-github",
        "colab_type": "text"
      },
      "source": [
        "<a href=\"https://colab.research.google.com/github/Richish/clrs_python/blob/master/4_divide_and_conquer.ipynb\" target=\"_parent\"><img src=\"https://colab.research.google.com/assets/colab-badge.svg\" alt=\"Open In Colab\"/></a>"
      ]
    },
    {
      "cell_type": "markdown",
      "metadata": {
        "id": "_1XPd2U5oRyH",
        "colab_type": "text"
      },
      "source": [
        "Master method:\n",
        "T(n) = aT(n/b) + f(n); where a>=1, b>1"
      ]
    },
    {
      "cell_type": "markdown",
      "metadata": {
        "id": "jc8Z5AKuqKO9",
        "colab_type": "text"
      },
      "source": [
        "# Max subarray problem\n",
        "You are allowed to buy one unit\n",
        "of stock only one time and then sell it at a later date, buying and selling after the\n",
        "close of trading for the day. To compensate for this restriction, you are allowed to\n",
        "learn what the price of the stock will be in the future. Your goal is to maximize\n",
        "your profit."
      ]
    },
    {
      "cell_type": "code",
      "metadata": {
        "id": "PbB7PrEIq_16",
        "colab_type": "code",
        "colab": {
          "base_uri": "https://localhost:8080/",
          "height": 391
        },
        "outputId": "f5c28d3d-5395-4523-e5f8-eaf7621630bc"
      },
      "source": [
        "import numpy as np\n",
        "from collections import OrderedDict\n",
        "prices = np.random.random_integers(low=0, high=100, size=20)\n",
        "prices.shape, prices\n",
        "prices = [(j,price) for j,price in enumerate(prices)]\n",
        "prices=OrderedDict(prices)\n",
        "n=len(prices)\n",
        "prices\n"
      ],
      "execution_count": 16,
      "outputs": [
        {
          "output_type": "stream",
          "text": [
            "/usr/local/lib/python3.6/dist-packages/ipykernel_launcher.py:3: DeprecationWarning: This function is deprecated. Please call randint(0, 100 + 1) instead\n",
            "  This is separate from the ipykernel package so we can avoid doing imports until\n"
          ],
          "name": "stderr"
        },
        {
          "output_type": "execute_result",
          "data": {
            "text/plain": [
              "OrderedDict([(0, 67),\n",
              "             (1, 84),\n",
              "             (2, 40),\n",
              "             (3, 2),\n",
              "             (4, 48),\n",
              "             (5, 20),\n",
              "             (6, 5),\n",
              "             (7, 24),\n",
              "             (8, 73),\n",
              "             (9, 56),\n",
              "             (10, 47),\n",
              "             (11, 4),\n",
              "             (12, 9),\n",
              "             (13, 97),\n",
              "             (14, 78),\n",
              "             (15, 68),\n",
              "             (16, 24),\n",
              "             (17, 99),\n",
              "             (18, 99),\n",
              "             (19, 92)])"
            ]
          },
          "metadata": {
            "tags": []
          },
          "execution_count": 16
        }
      ]
    },
    {
      "cell_type": "markdown",
      "metadata": {
        "id": "0zOUUjA4qgFX",
        "colab_type": "text"
      },
      "source": [
        "## brute force solution sigma(n^2)\n",
        "Check for all price pairs. sigma(n)=nC2."
      ]
    },
    {
      "cell_type": "code",
      "metadata": {
        "id": "XdXKZ5j8qzjF",
        "colab_type": "code",
        "colab": {
          "base_uri": "https://localhost:8080/",
          "height": 34
        },
        "outputId": "9202a154-128f-4cfd-afe2-7317a304adcb"
      },
      "source": [
        "max_profit=0\n",
        "max_profit_dates=None\n",
        "for i in range(n):\n",
        "    for j in range(i+1,n):\n",
        "        profit = prices[j] - prices[i]\n",
        "        if profit>max_profit:\n",
        "            max_profit=profit\n",
        "            max_profit_dates=(i,j)\n",
        "max_profit, max_profit_dates"
      ],
      "execution_count": 20,
      "outputs": [
        {
          "output_type": "execute_result",
          "data": {
            "text/plain": [
              "(97, (3, 17))"
            ]
          },
          "metadata": {
            "tags": []
          },
          "execution_count": 20
        }
      ]
    },
    {
      "cell_type": "markdown",
      "metadata": {
        "id": "ERFmY19ewKCf",
        "colab_type": "text"
      },
      "source": [
        "## brute force solution theta(n^2)\n",
        "Transform the input to array of daily price changes and apply brute force.\n",
        "Find the nonempty, contiguous\n",
        "subarray of A whose values have the largest sum."
      ]
    },
    {
      "cell_type": "code",
      "metadata": {
        "id": "mJNNNJWRoNMn",
        "colab_type": "code",
        "colab": {
          "base_uri": "https://localhost:8080/",
          "height": 357
        },
        "outputId": "795ce768-a0fe-4cd7-e1bb-44333e7879b4"
      },
      "source": [
        "### transformation\n",
        "price_changes=[(i,prices[i]-prices[i-1]) for i in range(1,len(prices))]\n",
        "len(price_changes), price_changes"
      ],
      "execution_count": 26,
      "outputs": [
        {
          "output_type": "execute_result",
          "data": {
            "text/plain": [
              "(19,\n",
              " [(1, 17),\n",
              "  (2, -44),\n",
              "  (3, -38),\n",
              "  (4, 46),\n",
              "  (5, -28),\n",
              "  (6, -15),\n",
              "  (7, 19),\n",
              "  (8, 49),\n",
              "  (9, -17),\n",
              "  (10, -9),\n",
              "  (11, -43),\n",
              "  (12, 5),\n",
              "  (13, 88),\n",
              "  (14, -19),\n",
              "  (15, -10),\n",
              "  (16, -44),\n",
              "  (17, 75),\n",
              "  (18, 0),\n",
              "  (19, -7)])"
            ]
          },
          "metadata": {
            "tags": []
          },
          "execution_count": 26
        }
      ]
    },
    {
      "cell_type": "markdown",
      "metadata": {
        "id": "Mg4c321Z0Qi8",
        "colab_type": "text"
      },
      "source": [
        "\n",
        "1. we can organize\n",
        "the computation so that each subarray sum takes O(1) time, given the values\n",
        "of previously computed subarray sums, so that the brute-force solution takes theta(n^2) time."
      ]
    },
    {
      "cell_type": "code",
      "metadata": {
        "id": "bwfPfVNs57IK",
        "colab_type": "code",
        "colab": {}
      },
      "source": [
        ""
      ],
      "execution_count": 0,
      "outputs": []
    },
    {
      "cell_type": "code",
      "metadata": {
        "id": "NfNDRCjs6DEM",
        "colab_type": "code",
        "colab": {}
      },
      "source": [
        ""
      ],
      "execution_count": 0,
      "outputs": []
    },
    {
      "cell_type": "code",
      "metadata": {
        "id": "bx4iIsLK57p1",
        "colab_type": "code",
        "colab": {}
      },
      "source": [
        ""
      ],
      "execution_count": 0,
      "outputs": []
    },
    {
      "cell_type": "code",
      "metadata": {
        "id": "kuG0A5SRwFgL",
        "colab_type": "code",
        "colab": {}
      },
      "source": [
        ""
      ],
      "execution_count": 0,
      "outputs": []
    },
    {
      "cell_type": "code",
      "metadata": {
        "id": "KQllaP8twFiz",
        "colab_type": "code",
        "colab": {}
      },
      "source": [
        ""
      ],
      "execution_count": 0,
      "outputs": []
    },
    {
      "cell_type": "code",
      "metadata": {
        "id": "nifrflUewFlX",
        "colab_type": "code",
        "colab": {}
      },
      "source": [
        ""
      ],
      "execution_count": 0,
      "outputs": []
    },
    {
      "cell_type": "code",
      "metadata": {
        "id": "bjuDt_jEwFnn",
        "colab_type": "code",
        "colab": {}
      },
      "source": [
        ""
      ],
      "execution_count": 0,
      "outputs": []
    },
    {
      "cell_type": "code",
      "metadata": {
        "id": "QCNggHqNwFqF",
        "colab_type": "code",
        "colab": {}
      },
      "source": [
        ""
      ],
      "execution_count": 0,
      "outputs": []
    },
    {
      "cell_type": "code",
      "metadata": {
        "id": "pqOTPFFawFtC",
        "colab_type": "code",
        "colab": {}
      },
      "source": [
        ""
      ],
      "execution_count": 0,
      "outputs": []
    }
  ]
}